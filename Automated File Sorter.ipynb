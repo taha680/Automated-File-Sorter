{
 "cells": [
  {
   "cell_type": "markdown",
   "id": "14d194ae-8e0d-4913-be81-492c6a312782",
   "metadata": {},
   "source": [
    "# Automated File Sorter"
   ]
  },
  {
   "cell_type": "code",
   "execution_count": 2,
   "id": "d8adcbe1-f62a-43ac-a83e-2fab99e867f1",
   "metadata": {},
   "outputs": [],
   "source": [
    "import os, shutil"
   ]
  },
  {
   "cell_type": "code",
   "execution_count": 4,
   "id": "efa2c4d8-494e-487e-baeb-6f7fea55aeac",
   "metadata": {},
   "outputs": [],
   "source": [
    "path = r\"C:/Users/HP/Documents/n2/\""
   ]
  },
  {
   "cell_type": "code",
   "execution_count": 8,
   "id": "1b56a684-b3d7-4c47-bf48-cc741c5f4c65",
   "metadata": {},
   "outputs": [],
   "source": [
    "file_name = os.listdir(path)"
   ]
  },
  {
   "cell_type": "code",
   "execution_count": 10,
   "id": "6e59a44d-2f71-491d-9fa5-5f0416793910",
   "metadata": {},
   "outputs": [
    {
     "name": "stdout",
     "output_type": "stream",
     "text": [
      "C:/Users/HP/Documents/n2/image file\n",
      "C:/Users/HP/Documents/n2/csv files\n",
      "C:/Users/HP/Documents/n2/pdf file\n"
     ]
    }
   ],
   "source": [
    "folder_names = ['image file', 'csv files', 'pdf file']\n",
    "for loop in range(0,3):\n",
    "    if not os.path.exists(path + folder_names[loop]):\n",
    "        print(path + folder_names[loop])\n",
    "        os.makedirs(path + folder_names[loop])"
   ]
  },
  {
   "cell_type": "code",
   "execution_count": 12,
   "id": "773bed33-ea15-4f8b-b05b-1e80332bb029",
   "metadata": {},
   "outputs": [
    {
     "name": "stdout",
     "output_type": "stream",
     "text": [
      "There are files in this path that were not moved\n"
     ]
    }
   ],
   "source": [
    "for file in file_name:\n",
    "    if '.png' in file and not os.path.exists(path + 'image file/' + file):\n",
    "        shutil.move(path + file, path + 'image file/' + file)\n",
    "    elif '.csv' in file and not os.path.exists(path + 'csv files/' + file):\n",
    "        shutil.move(path + file, path + 'csv files/' + file)\n",
    "    elif '.pdf' in file and not os.path.exists(path + 'pdf file/' + file):\n",
    "        shutil.move(path + file, path + 'pdf file/' + file)\n",
    "else:\n",
    "    print('There are files in this path that were not moved')"
   ]
  },
  {
   "cell_type": "code",
   "execution_count": null,
   "id": "a05d67b4-42ea-4cd7-8b74-12e21389babb",
   "metadata": {},
   "outputs": [],
   "source": []
  },
  {
   "cell_type": "code",
   "execution_count": null,
   "id": "05ebb7f9-f8ef-4fde-bc1c-2dec45f1c726",
   "metadata": {},
   "outputs": [],
   "source": []
  },
  {
   "cell_type": "code",
   "execution_count": null,
   "id": "8e10693b-1986-4093-8015-465e56161173",
   "metadata": {},
   "outputs": [],
   "source": []
  },
  {
   "cell_type": "code",
   "execution_count": null,
   "id": "a1d6e211-f902-4921-ae0f-102579821dd1",
   "metadata": {},
   "outputs": [],
   "source": []
  },
  {
   "cell_type": "code",
   "execution_count": null,
   "id": "0995849b-b429-4bc9-ab02-b884d729e7e3",
   "metadata": {},
   "outputs": [],
   "source": []
  },
  {
   "cell_type": "code",
   "execution_count": null,
   "id": "e01561b3-1f61-4339-bebc-139dcd5d9a3a",
   "metadata": {},
   "outputs": [],
   "source": []
  },
  {
   "cell_type": "code",
   "execution_count": null,
   "id": "8194dee5-c242-4ed5-8191-4fa0dc6132e9",
   "metadata": {},
   "outputs": [],
   "source": []
  },
  {
   "cell_type": "code",
   "execution_count": null,
   "id": "9858a12f-e28f-4a53-b4c6-56f944d7928f",
   "metadata": {},
   "outputs": [],
   "source": []
  }
 ],
 "metadata": {
  "kernelspec": {
   "display_name": "Python 3 (ipykernel)",
   "language": "python",
   "name": "python3"
  },
  "language_info": {
   "codemirror_mode": {
    "name": "ipython",
    "version": 3
   },
   "file_extension": ".py",
   "mimetype": "text/x-python",
   "name": "python",
   "nbconvert_exporter": "python",
   "pygments_lexer": "ipython3",
   "version": "3.11.7"
  }
 },
 "nbformat": 4,
 "nbformat_minor": 5
}
